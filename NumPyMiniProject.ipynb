{
 "cells": [
  {
   "cell_type": "markdown",
   "id": "3ddceaca",
   "metadata": {},
   "source": [
    "##Step 1 : Read the Data!"
   ]
  },
  {
   "cell_type": "code",
   "execution_count": 1,
   "id": "3adb9804",
   "metadata": {
    "scrolled": true
   },
   "outputs": [
    {
     "name": "stdout",
     "output_type": "stream",
     "text": [
      "\n",
      "Data: \n",
      "\n",
      " [[39. 13.  4. ...  0. 40.  0.]\n",
      " [50. 13.  4. ...  0. 13.  0.]\n",
      " [38.  9.  4. ...  0. 40.  0.]\n",
      " ...\n",
      " [48. 13.  4. ...  0. 58.  1.]\n",
      " [40. 10.  4. ...  0. 40.  0.]\n",
      " [39. 13.  4. ...  0. 50.  1.]]\n"
     ]
    }
   ],
   "source": [
    "import numpy as np\n",
    "\n",
    "data_file = 'makeSenseOfCensus.csv'\n",
    "data = np.genfromtxt(data_file, delimiter=\",\", skip_header=1)\n",
    "print(\"\\nData: \\n\\n\", data)"
   ]
  },
  {
   "cell_type": "code",
   "execution_count": 2,
   "id": "44af1441",
   "metadata": {},
   "outputs": [
    {
     "name": "stdout",
     "output_type": "stream",
     "text": [
      "\n",
      "Type of data: \n",
      "\n",
      " <class 'numpy.ndarray'>\n"
     ]
    }
   ],
   "source": [
    "print(\"\\nType of data: \\n\\n\", type(data))"
   ]
  },
  {
   "cell_type": "markdown",
   "id": "9e2ae66c",
   "metadata": {},
   "source": [
    "##Step 2 : Append the Data"
   ]
  },
  {
   "cell_type": "code",
   "execution_count": 3,
   "id": "68897d18",
   "metadata": {},
   "outputs": [
    {
     "data": {
      "text/plain": [
       "array([[39., 13.,  4., ...,  0., 40.,  0.],\n",
       "       [50., 13.,  4., ...,  0., 13.,  0.],\n",
       "       [38.,  9.,  4., ...,  0., 40.,  0.],\n",
       "       ...,\n",
       "       [40., 10.,  4., ...,  0., 40.,  0.],\n",
       "       [39., 13.,  4., ...,  0., 50.,  1.],\n",
       "       [50.,  9.,  4., ...,  0., 40.,  0.]])"
      ]
     },
     "execution_count": 3,
     "metadata": {},
     "output_type": "execute_result"
    }
   ],
   "source": [
    "new_record=[[50, 9, 4, 1, 0, 0, 40, 0]]\n",
    "np.concatenate((data,new_record), axis=0)"
   ]
  },
  {
   "cell_type": "markdown",
   "id": "f6e059ed",
   "metadata": {},
   "source": [
    "##Step 3 : Check if it's a young country or old country"
   ]
  },
  {
   "cell_type": "code",
   "execution_count": 4,
   "id": "74ffe85e",
   "metadata": {},
   "outputs": [
    {
     "name": "stdout",
     "output_type": "stream",
     "text": [
      "Max age =  90.0\n",
      "Min age =  17.0\n",
      "Mean age =  38.051\n",
      "Standard Deviation =  13.342803266180612\n"
     ]
    }
   ],
   "source": [
    "age = np.array(data[:,0])\n",
    "max_age=age.max()\n",
    "min_age = age.min()\n",
    "age_mean = age.mean()\n",
    "age_std = age.std()\n",
    "print('Max age = ',max_age)\n",
    "print('Min age = ',min_age)\n",
    "print('Mean age = ',age_mean)\n",
    "print('Standard Deviation = ',age_std)"
   ]
  },
  {
   "cell_type": "markdown",
   "id": "d73939c7",
   "metadata": {},
   "source": [
    "##Step 4: Let's check the country's race distribution to identify the minorities"
   ]
  },
  {
   "cell_type": "code",
   "execution_count": 5,
   "id": "4ff123d2",
   "metadata": {},
   "outputs": [
    {
     "name": "stdout",
     "output_type": "stream",
     "text": [
      "[ 10  27 110   6 847]\n",
      "Least population by race is  6\n",
      "The race with least population is race 3(Other)\n"
     ]
    }
   ],
   "source": [
    "race = np.array(data[:,2])\n",
    "mask0 = race==0\n",
    "race_0 = race[mask0]\n",
    "mask1 = race==1\n",
    "race_1 = race[mask1]\n",
    "mask2 = race==2\n",
    "race_2 = race[mask2]\n",
    "mask3 = race==3\n",
    "race_3 = race[mask3]\n",
    "mask4 = race==4\n",
    "race_4 = race[mask4]\n",
    "len0 = len(race_0)\n",
    "len1 = len(race_1)\n",
    "len2 = len(race_2)\n",
    "len3 = len(race_3)\n",
    "len4 = len(race_4)\n",
    "race_dist = np.array([len0, len1, len2, len3, len4])\n",
    "print(race_dist)\n",
    "minority_race = race_dist.min()\n",
    "print('Least population by race is ',minority_race)\n",
    "print('The race with least population is race 3(Other)')"
   ]
  },
  {
   "cell_type": "markdown",
   "id": "fc12a100",
   "metadata": {},
   "source": [
    "##Step 5: As per govt. records citizens above 60 should not work more than 25 hours a week. Let us check if the policy is in place"
   ]
  },
  {
   "cell_type": "code",
   "execution_count": 6,
   "id": "7e9f81de",
   "metadata": {},
   "outputs": [
    {
     "name": "stdout",
     "output_type": "stream",
     "text": [
      "Average working hours for senior citizens is  32.69444444444444\n"
     ]
    }
   ],
   "source": [
    "z=[]\n",
    "for i in range(len(data)):\n",
    "  if data[i,0]>59:\n",
    "    z.append(list(data[i]))\n",
    "\n",
    "z=np.array(z)\n",
    "working_hrs_sum = sum(z[:,6])\n",
    "#print(working_hrs_sum)\n",
    "senior_citizen_len = len(z)\n",
    "avg_working_hours = working_hrs_sum/senior_citizen_len\n",
    "print('Average working hours for senior citizens is ',avg_working_hours)"
   ]
  },
  {
   "cell_type": "markdown",
   "id": "e5190d98",
   "metadata": {},
   "source": [
    "##Step 6: Let's check that higher educated people have better pay in general."
   ]
  },
  {
   "cell_type": "code",
   "execution_count": 7,
   "id": "eeea0a7e",
   "metadata": {},
   "outputs": [
    {
     "name": "stdout",
     "output_type": "stream",
     "text": [
      "Average pay for highly educated people:  0.42813455657492355\n",
      "Average pay for lower educated people:  0.13670133729569092\n"
     ]
    }
   ],
   "source": [
    "x = []\n",
    "for i in range(len(data)):\n",
    "  if data[i,1]>10:\n",
    "    x.append(list(data[i]))\n",
    "high = np.array(x)\n",
    "#print(high)\n",
    "y = []\n",
    "for i in range(len(data)):\n",
    "  if data[i,1]<=10:\n",
    "    y.append(list(data[i]))\n",
    "low = np.array(y)\n",
    "\n",
    "avg_pay_high = np.mean(high[:,7])\n",
    "avg_pay_low =  np.mean(low[:,7])\n",
    "print('Average pay for highly educated people: ',avg_pay_high)\n",
    "print('Average pay for lower educated people: ',avg_pay_low)"
   ]
  },
  {
   "cell_type": "code",
   "execution_count": null,
   "id": "45fad5fb",
   "metadata": {},
   "outputs": [],
   "source": []
  }
 ],
 "metadata": {
  "kernelspec": {
   "display_name": "Python 3 (ipykernel)",
   "language": "python",
   "name": "python3"
  },
  "language_info": {
   "codemirror_mode": {
    "name": "ipython",
    "version": 3
   },
   "file_extension": ".py",
   "mimetype": "text/x-python",
   "name": "python",
   "nbconvert_exporter": "python",
   "pygments_lexer": "ipython3",
   "version": "3.10.2"
  }
 },
 "nbformat": 4,
 "nbformat_minor": 5
}
